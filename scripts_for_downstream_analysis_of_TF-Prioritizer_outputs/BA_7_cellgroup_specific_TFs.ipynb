{
 "cells": [
  {
   "cell_type": "code",
   "execution_count": 1,
   "metadata": {},
   "outputs": [],
   "source": [
    "import seaborn as sns\n",
    "import collections as col\n",
    "import pandas as pd\n",
    "import statistics\n",
    "import os\n",
    "import sys\n",
    "import numpy as np\n",
    "import matplotlib.pyplot as plt\n",
    "from typing import Union\n",
    "from pathlib import Path\n",
    "import gseapy as gp\n",
    "import functions_sheet as myfunc\n",
    "from gseapy import barplot, dotplot\n",
    "import re\n",
    "import upsetplot as usp\n",
    "from collections import Counter\n",
    "pd.set_option('display.max_columns', None)\n",
    "pd.set_option('display.max_rows', 200)\n",
    "from gseapy import Msigdb\n",
    "from gseapy import GSEA\n",
    "\n",
    "path_to_main_comparison_dir = \"/nfs/data3/IHEC/TF_PRIO/comparisons/cells\"\n",
    "path_to_all_tfs_file = \"/nfs/data3/IHEC/TF_PRIO/additional_files/all_tfs.txt\"\n",
    "path_to_figure_folder = \"/nfs/data3/IHEC/TF_PRIO/created_plots/cellgroup_specific_TFs\""
   ]
  },
  {
   "cell_type": "code",
   "execution_count": 42,
   "metadata": {},
   "outputs": [],
   "source": [
    "tf_tpm_df = myfunc.create_overlap_df_with_tpm(path_to_main_comparison_dir, tpm_filter=1)\n",
    "tf_tpm_df = tf_tpm_df.rename(columns={\"euchromatin\": \"active_markers\", \"heterochromatin\": \"suppressive_markers\"})"
   ]
  },
  {
   "cell_type": "code",
   "execution_count": 44,
   "metadata": {},
   "outputs": [],
   "source": [
    "def extract_conditions(row_name):\n",
    "    cell_types = [\"b-cells-healthy\", \"macrophage-healthy\", \"t-cell-healthy\",  \"monocyte-healthy\", \"neutrophil-healthy\", \"b-cells-leukemia\"]\n",
    "    for cell_type_1 in cell_types:\n",
    "        if cell_type_1 in row_name:\n",
    "            cell_types.remove(cell_type_1)\n",
    "            for cell_type_2 in cell_types:\n",
    "                if cell_type_2 in row_name:\n",
    "                    return pd.Series([cell_type_1, cell_type_2])"
   ]
  },
  {
   "cell_type": "code",
   "execution_count": 45,
   "metadata": {},
   "outputs": [],
   "source": [
    "tf_tpm_df[[\"celltype_1\", \"celltype_2\"]] = tf_tpm_df.index.to_series().apply(extract_conditions)"
   ]
  },
  {
   "cell_type": "markdown",
   "metadata": {},
   "source": [
    "# first attempt to filter for cellgroup specific TFs"
   ]
  },
  {
   "cell_type": "code",
   "execution_count": null,
   "metadata": {},
   "outputs": [],
   "source": [
    "cell_types = [\"b-cells-healthy\", \"macrophage-healthy\", \"t-cell-healthy\",  \"monocyte-healthy\", \"neutrophil-healthy\"]\n",
    "\n",
    "tf_dict_tpm_active_temp = tf_overlap_df_tpm_changed[tf_overlap_df_tpm_changed.index.str.contains(\"monocyte-healthy\") \n",
    "    | tf_overlap_df_tpm_changed.index.str.contains(\"macrophage-healthy\") \n",
    "    | tf_overlap_df_tpm_changed.index.str.contains(\"neutrophil-health\") \n",
    "    & ~tf_overlap_df_tpm_changed.index.str.contains(\"b-cells-leukemia\")][\"active_markers\"].to_dict()\n",
    "tf_dict_tpm_suppressive_temp = tf_overlap_df_tpm_changed[tf_overlap_df_tpm_changed.index.str.contains(\"monocyte-healthy\") \n",
    "    | tf_overlap_df_tpm_changed.index.str.contains(\"macrophage-healthy\") \n",
    "    | tf_overlap_df_tpm_changed.index.str.contains(\"neutrophil-health\") \n",
    "    & ~tf_overlap_df_tpm_changed.index.str.contains(\"b-cells-leukemia\")][\"suppressive_markers\"].to_dict()\n",
    "myfunc.upset_plot(tf_dict_tpm_active_temp, title_extension=\"Myeloid cell-active_markers\", min_subset_size=0,max_subset_size=0)   \n",
    "myfunc.upset_plot(tf_dict_tpm_suppressive_temp, title_extension=\"Myeloid cell-suppressive_markers\", min_subset_size=0,max_subset_size=0)   "
   ]
  },
  {
   "cell_type": "code",
   "execution_count": 46,
   "metadata": {},
   "outputs": [
    {
     "name": "stdout",
     "output_type": "stream",
     "text": [
      "{'JUN', 'FOSL2'}\n",
      "set()\n"
     ]
    }
   ],
   "source": [
    "#lymphoid cells\n",
    "lymphoid_cells_tf_df = tf_tpm_df[tf_tpm_df.index.str.contains(\"b-cells-healthy\") \n",
    "    | tf_tpm_df.index.str.contains(\"t-cell-healthy\") \n",
    "    & ~tf_tpm_df.index.str.contains(\"b-cells-leukemia\")]\n",
    "\n",
    "lymphoid_cells_active_all_shared = lymphoid_cells_tf_df[\"active_markers\"].tolist()\n",
    "lymhpoid_cells_suppressive_all_shared = lymphoid_cells_tf_df[\"suppressive_markers\"].tolist()\n",
    "print(set.intersection(*lymhpoid_cells_active_all_shared))\n",
    "print(set.intersection(*lymhpoid_cells_suppressive_all_shared))"
   ]
  },
  {
   "cell_type": "code",
   "execution_count": 47,
   "metadata": {},
   "outputs": [
    {
     "name": "stdout",
     "output_type": "stream",
     "text": [
      "set()\n",
      "set()\n"
     ]
    }
   ],
   "source": [
    "#myeloid cells\n",
    "myeloid_cells_tf_df = tf_tpm_df[tf_tpm_df.index.str.contains(\"macrophage-healthy\") \n",
    "    | tf_tpm_df.index.str.contains(\"monocyte-healthy\") \n",
    "    | tf_tpm_df.index.str.contains(\"neutrophil-health\") \n",
    "    & ~tf_tpm_df.index.str.contains(\"b-cells-leukemia\")]\n",
    "\n",
    "myeloid_cells_tf_active_all_shared = myeloid_cells_tf_df[\"active_markers\"].tolist()\n",
    "myeloid_cells_tf_suppressive_all_shared = myeloid_cells_tf_df[\"suppressive_markers\"].tolist()\n",
    "\n",
    "print(set.intersection(*myeloid_cells_tf_active_all_shared))\n",
    "print(set.intersection(*myeloid_cells_tf_suppressive_all_shared))"
   ]
  },
  {
   "cell_type": "code",
   "execution_count": 40,
   "metadata": {},
   "outputs": [
    {
     "data": {
      "text/html": [
       "<div>\n",
       "<style scoped>\n",
       "    .dataframe tbody tr th:only-of-type {\n",
       "        vertical-align: middle;\n",
       "    }\n",
       "\n",
       "    .dataframe tbody tr th {\n",
       "        vertical-align: top;\n",
       "    }\n",
       "\n",
       "    .dataframe thead th {\n",
       "        text-align: right;\n",
       "    }\n",
       "</style>\n",
       "<table border=\"1\" class=\"dataframe\">\n",
       "  <thead>\n",
       "    <tr style=\"text-align: right;\">\n",
       "      <th></th>\n",
       "      <th>suppressive_markers</th>\n",
       "      <th>active_markers</th>\n",
       "      <th>intersection</th>\n",
       "      <th>union</th>\n",
       "      <th>unique</th>\n",
       "      <th>shared_at_least_once</th>\n",
       "      <th>shared_with_all</th>\n",
       "    </tr>\n",
       "  </thead>\n",
       "  <tbody>\n",
       "    <tr>\n",
       "      <th>macrophage-healthy-neutrophil-healthy</th>\n",
       "      <td>{ZNF384, JUN, MBD2, VENTX, NR2C1, ZNF460, STAT...</td>\n",
       "      <td>{MBD2, FOXO3, KLF10, CEBPA, IRF2, NR2C2, ARNT:...</td>\n",
       "      <td>{MBD2, ATF1, ZNF460, STAT5A, NFE2L1, SREBF1, Z...</td>\n",
       "      <td>{ZNF384, MBD2, NR2C1, ZNF460, SREBF1, FOXO3, Z...</td>\n",
       "      <td>{}</td>\n",
       "      <td>{ZNF384, MBD2, NR2C1, FOXO3, KLF10, CEBPA, IRF...</td>\n",
       "      <td>{}</td>\n",
       "    </tr>\n",
       "    <tr>\n",
       "      <th>macrophage-healthy-monocyte-healthy</th>\n",
       "      <td>{ZNF384, NR1H3, NR2C1, SP2, MEF2C, STAT5A, MAX...</td>\n",
       "      <td>{FOSB, ZNF281, PBX2, MBD2, NR2C1, STAT5A, SREB...</td>\n",
       "      <td>{VEZF1, NR2C1, MECP2, STAT5A, GMEB2, PRDM4, RE...</td>\n",
       "      <td>{FOSB, ZNF384, NR1H3, ZNF281, MBD2, NR2C1, SRE...</td>\n",
       "      <td>{ZNF281, DBP, SOX12, HES6, ZNF701, ZBTB18}</td>\n",
       "      <td>{FOSB, ZNF384, NR1H3, PBX2, MBD2, NR2C1, SP2, ...</td>\n",
       "      <td>{}</td>\n",
       "    </tr>\n",
       "    <tr>\n",
       "      <th>macrophage-healthy-t-cell-healthy</th>\n",
       "      <td>{NR1H3, NR4A2, KLF10, IRF2, NR2C2, ZNF189, ZNF...</td>\n",
       "      <td>{ZNF384, TCF7, NR2C1, SP2, STAT5A, NFE2L1, FOX...</td>\n",
       "      <td>{TCF7, VEZF1, JUN::JUNB, NFE2L1, HIC2, NR4A2, ...</td>\n",
       "      <td>{TCF7, NR1H3, ZNF384, NR2C1, SREBF1, FOXO3, ZF...</td>\n",
       "      <td>{}</td>\n",
       "      <td>{ZNF384, NR1H3, NR2C1, FOXO3, NR4A2, KLF10, IR...</td>\n",
       "      <td>{}</td>\n",
       "    </tr>\n",
       "    <tr>\n",
       "      <th>b-cells-healthy-monocyte-healthy</th>\n",
       "      <td>{ETS1, NR2C1, ZNF460, STAT5A, NFE2L1, FOXO3, Z...</td>\n",
       "      <td>{MBD2, NR2C1, FOXO3, KLF10, IRF2, E2F6, ARNT::...</td>\n",
       "      <td>{VEZF1, ETS1, ZNF460, NR2C1, FOXO3, ZFX, NFE2L...</td>\n",
       "      <td>{MBD2, NR2C1, ZNF460, SREBF1, FOXO3, ZFX, ZEB1...</td>\n",
       "      <td>{ELF2}</td>\n",
       "      <td>{MBD2, NR2C1, FOXO3, KLF10, IRF2, E2F6, ARNT::...</td>\n",
       "      <td>{}</td>\n",
       "    </tr>\n",
       "    <tr>\n",
       "      <th>monocyte-healthy-neutrophil-healthy</th>\n",
       "      <td>{ZNF384, PBX2, NR2C1, SP2, NFE2L1, VDR, FOXJ2,...</td>\n",
       "      <td>{NR2C1, FOXO3, NR4A2, IRF2, E2F6, ARNT::HIF1A,...</td>\n",
       "      <td>{PBX2, NR2C1, SP2, STAT2, NFE2L1, TCF12, FOXJ2...</td>\n",
       "      <td>{ZNF384, NR2C1, ZNF460, SREBF1, FOXO3, ZFX, NR...</td>\n",
       "      <td>{}</td>\n",
       "      <td>{ZNF384, NR2C1, FOXO3, NR4A2, CEBPA, IRF2, E2F...</td>\n",
       "      <td>{}</td>\n",
       "    </tr>\n",
       "    <tr>\n",
       "      <th>t-cell-healthy-neutrophil-healthy</th>\n",
       "      <td>{FOSB, ZNF384, EOMES, PBX2, STAT5A, NFE2L1, SR...</td>\n",
       "      <td>{FOSB, ZNF384, ZNF148, SREBF1, MAX, FOXJ2, NR4...</td>\n",
       "      <td>{FOSB, ZNF384, ZNF354C, MAZ, ZBTB17, MGA, KLF6...</td>\n",
       "      <td>{FOSB, ZNF384, SREBF1, NR4A2, IRF2, NR2C2, MEF...</td>\n",
       "      <td>{JUNB, STAT1}</td>\n",
       "      <td>{FOSB, ZNF384, NR4A2, IRF2, NR2C2, MEF2A, ARNT...</td>\n",
       "      <td>{}</td>\n",
       "    </tr>\n",
       "    <tr>\n",
       "      <th>b-cells-healthy-macrophage-healthy</th>\n",
       "      <td>{FOSB, ZNF384, NR4A2, KLF10, IRF2, MEF2A, ARNT...</td>\n",
       "      <td>{JUN, NR2C1, NFE2L1, POU3F1, ZFX, FOXO3, VDR, ...</td>\n",
       "      <td>{FOSL2, POU3F1, NFE2L2, ZFX, HIC2, VDR, FOXJ2,...</td>\n",
       "      <td>{FOSB, ZNF384, NR2C1, POU3F1, SREBF1, ZFX, FOX...</td>\n",
       "      <td>{ZFP14}</td>\n",
       "      <td>{FOSB, ZNF384, NR2C1, FOXO3, NR4A2, KLF10, IRF...</td>\n",
       "      <td>{}</td>\n",
       "    </tr>\n",
       "    <tr>\n",
       "      <th>monocyte-healthy-t-cell-healthy</th>\n",
       "      <td>{TCF7, ZNF460, NFE2L1, VDR, ZNF317, ARID5B, AR...</td>\n",
       "      <td>{ZNF384, TCF7, ZKSCAN1, MBD2, VENTX, ATF1, SP2...</td>\n",
       "      <td>{TCF7, STAT2, NFE2L1, NFE2L2, SREBF2, VDR, BCL...</td>\n",
       "      <td>{TCF7, ZNF384, ZKSCAN1, MBD2, ZNF460, SREBF1, ...</td>\n",
       "      <td>{ZKSCAN1, STAT1::STAT2}</td>\n",
       "      <td>{ZNF384, MBD2, KLF10, IRF2, E2F6, MEF2A, ARNT:...</td>\n",
       "      <td>{}</td>\n",
       "    </tr>\n",
       "    <tr>\n",
       "      <th>b-cells-healthy-neutrophil-healthy</th>\n",
       "      <td>{FOSB, ZNF384, NR4A2, NR2C2, MEF2A, ARNT::HIF1...</td>\n",
       "      <td>{ZNF341, ZNF148, CEBPG, NR2C1, SP2, STAT5A, NR...</td>\n",
       "      <td>{ZNF341, SP2, STAT5A, NR4A2, FOXJ2, MAFK, KLF1...</td>\n",
       "      <td>{FOSB, ZNF384, TCF7, CEBPG, NR2C1, ZNF460, POU...</td>\n",
       "      <td>{CEBPG, SPI1, EGR1, PLAG1}</td>\n",
       "      <td>{FOSB, ZNF384, NR2C1, NR4A2, CEBPA, NR2C2, MEF...</td>\n",
       "      <td>{}</td>\n",
       "    </tr>\n",
       "  </tbody>\n",
       "</table>\n",
       "</div>"
      ],
      "text/plain": [
       "                                                                     suppressive_markers  \\\n",
       "macrophage-healthy-neutrophil-healthy  {ZNF384, JUN, MBD2, VENTX, NR2C1, ZNF460, STAT...   \n",
       "macrophage-healthy-monocyte-healthy    {ZNF384, NR1H3, NR2C1, SP2, MEF2C, STAT5A, MAX...   \n",
       "macrophage-healthy-t-cell-healthy      {NR1H3, NR4A2, KLF10, IRF2, NR2C2, ZNF189, ZNF...   \n",
       "b-cells-healthy-monocyte-healthy       {ETS1, NR2C1, ZNF460, STAT5A, NFE2L1, FOXO3, Z...   \n",
       "monocyte-healthy-neutrophil-healthy    {ZNF384, PBX2, NR2C1, SP2, NFE2L1, VDR, FOXJ2,...   \n",
       "t-cell-healthy-neutrophil-healthy      {FOSB, ZNF384, EOMES, PBX2, STAT5A, NFE2L1, SR...   \n",
       "b-cells-healthy-macrophage-healthy     {FOSB, ZNF384, NR4A2, KLF10, IRF2, MEF2A, ARNT...   \n",
       "monocyte-healthy-t-cell-healthy        {TCF7, ZNF460, NFE2L1, VDR, ZNF317, ARID5B, AR...   \n",
       "b-cells-healthy-neutrophil-healthy     {FOSB, ZNF384, NR4A2, NR2C2, MEF2A, ARNT::HIF1...   \n",
       "\n",
       "                                                                          active_markers  \\\n",
       "macrophage-healthy-neutrophil-healthy  {MBD2, FOXO3, KLF10, CEBPA, IRF2, NR2C2, ARNT:...   \n",
       "macrophage-healthy-monocyte-healthy    {FOSB, ZNF281, PBX2, MBD2, NR2C1, STAT5A, SREB...   \n",
       "macrophage-healthy-t-cell-healthy      {ZNF384, TCF7, NR2C1, SP2, STAT5A, NFE2L1, FOX...   \n",
       "b-cells-healthy-monocyte-healthy       {MBD2, NR2C1, FOXO3, KLF10, IRF2, E2F6, ARNT::...   \n",
       "monocyte-healthy-neutrophil-healthy    {NR2C1, FOXO3, NR4A2, IRF2, E2F6, ARNT::HIF1A,...   \n",
       "t-cell-healthy-neutrophil-healthy      {FOSB, ZNF384, ZNF148, SREBF1, MAX, FOXJ2, NR4...   \n",
       "b-cells-healthy-macrophage-healthy     {JUN, NR2C1, NFE2L1, POU3F1, ZFX, FOXO3, VDR, ...   \n",
       "monocyte-healthy-t-cell-healthy        {ZNF384, TCF7, ZKSCAN1, MBD2, VENTX, ATF1, SP2...   \n",
       "b-cells-healthy-neutrophil-healthy     {ZNF341, ZNF148, CEBPG, NR2C1, SP2, STAT5A, NR...   \n",
       "\n",
       "                                                                            intersection  \\\n",
       "macrophage-healthy-neutrophil-healthy  {MBD2, ATF1, ZNF460, STAT5A, NFE2L1, SREBF1, Z...   \n",
       "macrophage-healthy-monocyte-healthy    {VEZF1, NR2C1, MECP2, STAT5A, GMEB2, PRDM4, RE...   \n",
       "macrophage-healthy-t-cell-healthy      {TCF7, VEZF1, JUN::JUNB, NFE2L1, HIC2, NR4A2, ...   \n",
       "b-cells-healthy-monocyte-healthy       {VEZF1, ETS1, ZNF460, NR2C1, FOXO3, ZFX, NFE2L...   \n",
       "monocyte-healthy-neutrophil-healthy    {PBX2, NR2C1, SP2, STAT2, NFE2L1, TCF12, FOXJ2...   \n",
       "t-cell-healthy-neutrophil-healthy      {FOSB, ZNF384, ZNF354C, MAZ, ZBTB17, MGA, KLF6...   \n",
       "b-cells-healthy-macrophage-healthy     {FOSL2, POU3F1, NFE2L2, ZFX, HIC2, VDR, FOXJ2,...   \n",
       "monocyte-healthy-t-cell-healthy        {TCF7, STAT2, NFE2L1, NFE2L2, SREBF2, VDR, BCL...   \n",
       "b-cells-healthy-neutrophil-healthy     {ZNF341, SP2, STAT5A, NR4A2, FOXJ2, MAFK, KLF1...   \n",
       "\n",
       "                                                                                   union  \\\n",
       "macrophage-healthy-neutrophil-healthy  {ZNF384, MBD2, NR2C1, ZNF460, SREBF1, FOXO3, Z...   \n",
       "macrophage-healthy-monocyte-healthy    {FOSB, ZNF384, NR1H3, ZNF281, MBD2, NR2C1, SRE...   \n",
       "macrophage-healthy-t-cell-healthy      {TCF7, NR1H3, ZNF384, NR2C1, SREBF1, FOXO3, ZF...   \n",
       "b-cells-healthy-monocyte-healthy       {MBD2, NR2C1, ZNF460, SREBF1, FOXO3, ZFX, ZEB1...   \n",
       "monocyte-healthy-neutrophil-healthy    {ZNF384, NR2C1, ZNF460, SREBF1, FOXO3, ZFX, NR...   \n",
       "t-cell-healthy-neutrophil-healthy      {FOSB, ZNF384, SREBF1, NR4A2, IRF2, NR2C2, MEF...   \n",
       "b-cells-healthy-macrophage-healthy     {FOSB, ZNF384, NR2C1, POU3F1, SREBF1, ZFX, FOX...   \n",
       "monocyte-healthy-t-cell-healthy        {TCF7, ZNF384, ZKSCAN1, MBD2, ZNF460, SREBF1, ...   \n",
       "b-cells-healthy-neutrophil-healthy     {FOSB, ZNF384, TCF7, CEBPG, NR2C1, ZNF460, POU...   \n",
       "\n",
       "                                                                           unique  \\\n",
       "macrophage-healthy-neutrophil-healthy                                          {}   \n",
       "macrophage-healthy-monocyte-healthy    {ZNF281, DBP, SOX12, HES6, ZNF701, ZBTB18}   \n",
       "macrophage-healthy-t-cell-healthy                                              {}   \n",
       "b-cells-healthy-monocyte-healthy                                           {ELF2}   \n",
       "monocyte-healthy-neutrophil-healthy                                            {}   \n",
       "t-cell-healthy-neutrophil-healthy                                   {JUNB, STAT1}   \n",
       "b-cells-healthy-macrophage-healthy                                        {ZFP14}   \n",
       "monocyte-healthy-t-cell-healthy                           {ZKSCAN1, STAT1::STAT2}   \n",
       "b-cells-healthy-neutrophil-healthy                     {CEBPG, SPI1, EGR1, PLAG1}   \n",
       "\n",
       "                                                                    shared_at_least_once  \\\n",
       "macrophage-healthy-neutrophil-healthy  {ZNF384, MBD2, NR2C1, FOXO3, KLF10, CEBPA, IRF...   \n",
       "macrophage-healthy-monocyte-healthy    {FOSB, ZNF384, NR1H3, PBX2, MBD2, NR2C1, SP2, ...   \n",
       "macrophage-healthy-t-cell-healthy      {ZNF384, NR1H3, NR2C1, FOXO3, NR4A2, KLF10, IR...   \n",
       "b-cells-healthy-monocyte-healthy       {MBD2, NR2C1, FOXO3, KLF10, IRF2, E2F6, ARNT::...   \n",
       "monocyte-healthy-neutrophil-healthy    {ZNF384, NR2C1, FOXO3, NR4A2, CEBPA, IRF2, E2F...   \n",
       "t-cell-healthy-neutrophil-healthy      {FOSB, ZNF384, NR4A2, IRF2, NR2C2, MEF2A, ARNT...   \n",
       "b-cells-healthy-macrophage-healthy     {FOSB, ZNF384, NR2C1, FOXO3, NR4A2, KLF10, IRF...   \n",
       "monocyte-healthy-t-cell-healthy        {ZNF384, MBD2, KLF10, IRF2, E2F6, MEF2A, ARNT:...   \n",
       "b-cells-healthy-neutrophil-healthy     {FOSB, ZNF384, NR2C1, NR4A2, CEBPA, NR2C2, MEF...   \n",
       "\n",
       "                                      shared_with_all  \n",
       "macrophage-healthy-neutrophil-healthy              {}  \n",
       "macrophage-healthy-monocyte-healthy                {}  \n",
       "macrophage-healthy-t-cell-healthy                  {}  \n",
       "b-cells-healthy-monocyte-healthy                   {}  \n",
       "monocyte-healthy-neutrophil-healthy                {}  \n",
       "t-cell-healthy-neutrophil-healthy                  {}  \n",
       "b-cells-healthy-macrophage-healthy                 {}  \n",
       "monocyte-healthy-t-cell-healthy                    {}  \n",
       "b-cells-healthy-neutrophil-healthy                 {}  "
      ]
     },
     "execution_count": 40,
     "metadata": {},
     "output_type": "execute_result"
    }
   ],
   "source": [
    "myeloid_cells_tf_df"
   ]
  },
  {
   "cell_type": "code",
   "execution_count": 48,
   "metadata": {},
   "outputs": [
    {
     "data": {
      "text/html": [
       "<div>\n",
       "<style scoped>\n",
       "    .dataframe tbody tr th:only-of-type {\n",
       "        vertical-align: middle;\n",
       "    }\n",
       "\n",
       "    .dataframe tbody tr th {\n",
       "        vertical-align: top;\n",
       "    }\n",
       "\n",
       "    .dataframe thead th {\n",
       "        text-align: right;\n",
       "    }\n",
       "</style>\n",
       "<table border=\"1\" class=\"dataframe\">\n",
       "  <thead>\n",
       "    <tr style=\"text-align: right;\">\n",
       "      <th></th>\n",
       "      <th>suppressive_markers</th>\n",
       "      <th>active_markers</th>\n",
       "      <th>celltype_1</th>\n",
       "      <th>celltype_2</th>\n",
       "    </tr>\n",
       "  </thead>\n",
       "  <tbody>\n",
       "    <tr>\n",
       "      <th>macrophage-healthy-neutrophil-healthy</th>\n",
       "      <td>{ZNF384, JUN, MBD2, VENTX, NR2C1, ZNF460, STAT...</td>\n",
       "      <td>{MBD2, FOXO3, KLF10, CEBPA, IRF2, NR2C2, ARNT:...</td>\n",
       "      <td>macrophage-healthy</td>\n",
       "      <td>neutrophil-healthy</td>\n",
       "    </tr>\n",
       "    <tr>\n",
       "      <th>macrophage-healthy-monocyte-healthy</th>\n",
       "      <td>{ZNF384, NR1H3, NR2C1, SP2, MEF2C, STAT5A, MAX...</td>\n",
       "      <td>{FOSB, ZNF281, PBX2, MBD2, NR2C1, STAT5A, SREB...</td>\n",
       "      <td>macrophage-healthy</td>\n",
       "      <td>monocyte-healthy</td>\n",
       "    </tr>\n",
       "    <tr>\n",
       "      <th>macrophage-healthy-t-cell-healthy</th>\n",
       "      <td>{NR1H3, NR4A2, KLF10, IRF2, NR2C2, ZNF189, ZNF...</td>\n",
       "      <td>{ZNF384, TCF7, NR2C1, SP2, STAT5A, NFE2L1, FOX...</td>\n",
       "      <td>macrophage-healthy</td>\n",
       "      <td>t-cell-healthy</td>\n",
       "    </tr>\n",
       "    <tr>\n",
       "      <th>b-cells-healthy-monocyte-healthy</th>\n",
       "      <td>{ETS1, NR2C1, ZNF460, STAT5A, NFE2L1, FOXO3, Z...</td>\n",
       "      <td>{MBD2, NR2C1, FOXO3, KLF10, IRF2, E2F6, ARNT::...</td>\n",
       "      <td>b-cells-healthy</td>\n",
       "      <td>monocyte-healthy</td>\n",
       "    </tr>\n",
       "    <tr>\n",
       "      <th>monocyte-healthy-neutrophil-healthy</th>\n",
       "      <td>{ZNF384, PBX2, NR2C1, SP2, NFE2L1, VDR, FOXJ2,...</td>\n",
       "      <td>{NR2C1, FOXO3, NR4A2, IRF2, E2F6, ARNT::HIF1A,...</td>\n",
       "      <td>monocyte-healthy</td>\n",
       "      <td>neutrophil-healthy</td>\n",
       "    </tr>\n",
       "    <tr>\n",
       "      <th>t-cell-healthy-neutrophil-healthy</th>\n",
       "      <td>{FOSB, ZNF384, EOMES, PBX2, STAT5A, NFE2L1, SR...</td>\n",
       "      <td>{FOSB, ZNF384, ZNF148, SREBF1, MAX, FOXJ2, NR4...</td>\n",
       "      <td>t-cell-healthy</td>\n",
       "      <td>neutrophil-healthy</td>\n",
       "    </tr>\n",
       "    <tr>\n",
       "      <th>b-cells-healthy-macrophage-healthy</th>\n",
       "      <td>{FOSB, ZNF384, NR4A2, KLF10, IRF2, MEF2A, ARNT...</td>\n",
       "      <td>{JUN, NR2C1, NFE2L1, POU3F1, ZFX, FOXO3, VDR, ...</td>\n",
       "      <td>b-cells-healthy</td>\n",
       "      <td>macrophage-healthy</td>\n",
       "    </tr>\n",
       "    <tr>\n",
       "      <th>monocyte-healthy-t-cell-healthy</th>\n",
       "      <td>{TCF7, ZNF460, NFE2L1, VDR, ZNF317, ARID5B, AR...</td>\n",
       "      <td>{ZNF384, TCF7, ZKSCAN1, MBD2, VENTX, ATF1, SP2...</td>\n",
       "      <td>t-cell-healthy</td>\n",
       "      <td>monocyte-healthy</td>\n",
       "    </tr>\n",
       "    <tr>\n",
       "      <th>b-cells-healthy-neutrophil-healthy</th>\n",
       "      <td>{FOSB, ZNF384, NR4A2, NR2C2, MEF2A, ARNT::HIF1...</td>\n",
       "      <td>{ZNF341, ZNF148, CEBPG, NR2C1, SP2, STAT5A, NR...</td>\n",
       "      <td>b-cells-healthy</td>\n",
       "      <td>neutrophil-healthy</td>\n",
       "    </tr>\n",
       "  </tbody>\n",
       "</table>\n",
       "</div>"
      ],
      "text/plain": [
       "                                                                     suppressive_markers  \\\n",
       "macrophage-healthy-neutrophil-healthy  {ZNF384, JUN, MBD2, VENTX, NR2C1, ZNF460, STAT...   \n",
       "macrophage-healthy-monocyte-healthy    {ZNF384, NR1H3, NR2C1, SP2, MEF2C, STAT5A, MAX...   \n",
       "macrophage-healthy-t-cell-healthy      {NR1H3, NR4A2, KLF10, IRF2, NR2C2, ZNF189, ZNF...   \n",
       "b-cells-healthy-monocyte-healthy       {ETS1, NR2C1, ZNF460, STAT5A, NFE2L1, FOXO3, Z...   \n",
       "monocyte-healthy-neutrophil-healthy    {ZNF384, PBX2, NR2C1, SP2, NFE2L1, VDR, FOXJ2,...   \n",
       "t-cell-healthy-neutrophil-healthy      {FOSB, ZNF384, EOMES, PBX2, STAT5A, NFE2L1, SR...   \n",
       "b-cells-healthy-macrophage-healthy     {FOSB, ZNF384, NR4A2, KLF10, IRF2, MEF2A, ARNT...   \n",
       "monocyte-healthy-t-cell-healthy        {TCF7, ZNF460, NFE2L1, VDR, ZNF317, ARID5B, AR...   \n",
       "b-cells-healthy-neutrophil-healthy     {FOSB, ZNF384, NR4A2, NR2C2, MEF2A, ARNT::HIF1...   \n",
       "\n",
       "                                                                          active_markers  \\\n",
       "macrophage-healthy-neutrophil-healthy  {MBD2, FOXO3, KLF10, CEBPA, IRF2, NR2C2, ARNT:...   \n",
       "macrophage-healthy-monocyte-healthy    {FOSB, ZNF281, PBX2, MBD2, NR2C1, STAT5A, SREB...   \n",
       "macrophage-healthy-t-cell-healthy      {ZNF384, TCF7, NR2C1, SP2, STAT5A, NFE2L1, FOX...   \n",
       "b-cells-healthy-monocyte-healthy       {MBD2, NR2C1, FOXO3, KLF10, IRF2, E2F6, ARNT::...   \n",
       "monocyte-healthy-neutrophil-healthy    {NR2C1, FOXO3, NR4A2, IRF2, E2F6, ARNT::HIF1A,...   \n",
       "t-cell-healthy-neutrophil-healthy      {FOSB, ZNF384, ZNF148, SREBF1, MAX, FOXJ2, NR4...   \n",
       "b-cells-healthy-macrophage-healthy     {JUN, NR2C1, NFE2L1, POU3F1, ZFX, FOXO3, VDR, ...   \n",
       "monocyte-healthy-t-cell-healthy        {ZNF384, TCF7, ZKSCAN1, MBD2, VENTX, ATF1, SP2...   \n",
       "b-cells-healthy-neutrophil-healthy     {ZNF341, ZNF148, CEBPG, NR2C1, SP2, STAT5A, NR...   \n",
       "\n",
       "                                               celltype_1          celltype_2  \n",
       "macrophage-healthy-neutrophil-healthy  macrophage-healthy  neutrophil-healthy  \n",
       "macrophage-healthy-monocyte-healthy    macrophage-healthy    monocyte-healthy  \n",
       "macrophage-healthy-t-cell-healthy      macrophage-healthy      t-cell-healthy  \n",
       "b-cells-healthy-monocyte-healthy          b-cells-healthy    monocyte-healthy  \n",
       "monocyte-healthy-neutrophil-healthy      monocyte-healthy  neutrophil-healthy  \n",
       "t-cell-healthy-neutrophil-healthy          t-cell-healthy  neutrophil-healthy  \n",
       "b-cells-healthy-macrophage-healthy        b-cells-healthy  macrophage-healthy  \n",
       "monocyte-healthy-t-cell-healthy            t-cell-healthy    monocyte-healthy  \n",
       "b-cells-healthy-neutrophil-healthy        b-cells-healthy  neutrophil-healthy  "
      ]
     },
     "execution_count": 48,
     "metadata": {},
     "output_type": "execute_result"
    }
   ],
   "source": [
    "myeloid_cells_tf_df"
   ]
  },
  {
   "cell_type": "markdown",
   "metadata": {},
   "source": [
    "->  problem: with this method comparisons are included where e.g. both used celltypes are from the same group"
   ]
  },
  {
   "cell_type": "markdown",
   "metadata": {},
   "source": [
    "# second try"
   ]
  },
  {
   "cell_type": "code",
   "execution_count": 50,
   "metadata": {},
   "outputs": [],
   "source": [
    "myeloid_cells = [\"macrophage-healthy\", \"neutrophil-healthy\", \"monocyte-healthy\"]\n",
    "lymphoid_cells = [\"b-cells-healthy\", \"t-cell-healthy\"]\n"
   ]
  },
  {
   "cell_type": "code",
   "execution_count": 51,
   "metadata": {},
   "outputs": [],
   "source": [
    "lymphoid_vs_myeloid_cells_tf_df = tf_tpm_df[((tf_tpm_df[\"celltype_1\"].isin(myeloid_cells) & tf_tpm_df[\"celltype_2\"].isin(lymphoid_cells)) | \n",
    "                                            (tf_tpm_df[\"celltype_1\"].isin(lymphoid_cells) & tf_tpm_df[\"celltype_2\"].isin(myeloid_cells)))]"
   ]
  },
  {
   "cell_type": "code",
   "execution_count": 52,
   "metadata": {},
   "outputs": [
    {
     "data": {
      "text/html": [
       "<div>\n",
       "<style scoped>\n",
       "    .dataframe tbody tr th:only-of-type {\n",
       "        vertical-align: middle;\n",
       "    }\n",
       "\n",
       "    .dataframe tbody tr th {\n",
       "        vertical-align: top;\n",
       "    }\n",
       "\n",
       "    .dataframe thead th {\n",
       "        text-align: right;\n",
       "    }\n",
       "</style>\n",
       "<table border=\"1\" class=\"dataframe\">\n",
       "  <thead>\n",
       "    <tr style=\"text-align: right;\">\n",
       "      <th></th>\n",
       "      <th>suppressive_markers</th>\n",
       "      <th>active_markers</th>\n",
       "      <th>celltype_1</th>\n",
       "      <th>celltype_2</th>\n",
       "    </tr>\n",
       "  </thead>\n",
       "  <tbody>\n",
       "    <tr>\n",
       "      <th>macrophage-healthy-t-cell-healthy</th>\n",
       "      <td>{NR1H3, NR4A2, KLF10, IRF2, NR2C2, ZNF189, ZNF...</td>\n",
       "      <td>{ZNF384, TCF7, NR2C1, SP2, STAT5A, NFE2L1, FOX...</td>\n",
       "      <td>macrophage-healthy</td>\n",
       "      <td>t-cell-healthy</td>\n",
       "    </tr>\n",
       "    <tr>\n",
       "      <th>b-cells-healthy-monocyte-healthy</th>\n",
       "      <td>{ETS1, NR2C1, ZNF460, STAT5A, NFE2L1, FOXO3, Z...</td>\n",
       "      <td>{MBD2, NR2C1, FOXO3, KLF10, IRF2, E2F6, ARNT::...</td>\n",
       "      <td>b-cells-healthy</td>\n",
       "      <td>monocyte-healthy</td>\n",
       "    </tr>\n",
       "    <tr>\n",
       "      <th>t-cell-healthy-neutrophil-healthy</th>\n",
       "      <td>{FOSB, ZNF384, EOMES, PBX2, STAT5A, NFE2L1, SR...</td>\n",
       "      <td>{FOSB, ZNF384, ZNF148, SREBF1, MAX, FOXJ2, NR4...</td>\n",
       "      <td>t-cell-healthy</td>\n",
       "      <td>neutrophil-healthy</td>\n",
       "    </tr>\n",
       "    <tr>\n",
       "      <th>b-cells-healthy-macrophage-healthy</th>\n",
       "      <td>{FOSB, ZNF384, NR4A2, KLF10, IRF2, MEF2A, ARNT...</td>\n",
       "      <td>{JUN, NR2C1, NFE2L1, POU3F1, ZFX, FOXO3, VDR, ...</td>\n",
       "      <td>b-cells-healthy</td>\n",
       "      <td>macrophage-healthy</td>\n",
       "    </tr>\n",
       "    <tr>\n",
       "      <th>monocyte-healthy-t-cell-healthy</th>\n",
       "      <td>{TCF7, ZNF460, NFE2L1, VDR, ZNF317, ARID5B, AR...</td>\n",
       "      <td>{ZNF384, TCF7, ZKSCAN1, MBD2, VENTX, ATF1, SP2...</td>\n",
       "      <td>t-cell-healthy</td>\n",
       "      <td>monocyte-healthy</td>\n",
       "    </tr>\n",
       "    <tr>\n",
       "      <th>b-cells-healthy-neutrophil-healthy</th>\n",
       "      <td>{FOSB, ZNF384, NR4A2, NR2C2, MEF2A, ARNT::HIF1...</td>\n",
       "      <td>{ZNF341, ZNF148, CEBPG, NR2C1, SP2, STAT5A, NR...</td>\n",
       "      <td>b-cells-healthy</td>\n",
       "      <td>neutrophil-healthy</td>\n",
       "    </tr>\n",
       "  </tbody>\n",
       "</table>\n",
       "</div>"
      ],
      "text/plain": [
       "                                                                  suppressive_markers  \\\n",
       "macrophage-healthy-t-cell-healthy   {NR1H3, NR4A2, KLF10, IRF2, NR2C2, ZNF189, ZNF...   \n",
       "b-cells-healthy-monocyte-healthy    {ETS1, NR2C1, ZNF460, STAT5A, NFE2L1, FOXO3, Z...   \n",
       "t-cell-healthy-neutrophil-healthy   {FOSB, ZNF384, EOMES, PBX2, STAT5A, NFE2L1, SR...   \n",
       "b-cells-healthy-macrophage-healthy  {FOSB, ZNF384, NR4A2, KLF10, IRF2, MEF2A, ARNT...   \n",
       "monocyte-healthy-t-cell-healthy     {TCF7, ZNF460, NFE2L1, VDR, ZNF317, ARID5B, AR...   \n",
       "b-cells-healthy-neutrophil-healthy  {FOSB, ZNF384, NR4A2, NR2C2, MEF2A, ARNT::HIF1...   \n",
       "\n",
       "                                                                       active_markers  \\\n",
       "macrophage-healthy-t-cell-healthy   {ZNF384, TCF7, NR2C1, SP2, STAT5A, NFE2L1, FOX...   \n",
       "b-cells-healthy-monocyte-healthy    {MBD2, NR2C1, FOXO3, KLF10, IRF2, E2F6, ARNT::...   \n",
       "t-cell-healthy-neutrophil-healthy   {FOSB, ZNF384, ZNF148, SREBF1, MAX, FOXJ2, NR4...   \n",
       "b-cells-healthy-macrophage-healthy  {JUN, NR2C1, NFE2L1, POU3F1, ZFX, FOXO3, VDR, ...   \n",
       "monocyte-healthy-t-cell-healthy     {ZNF384, TCF7, ZKSCAN1, MBD2, VENTX, ATF1, SP2...   \n",
       "b-cells-healthy-neutrophil-healthy  {ZNF341, ZNF148, CEBPG, NR2C1, SP2, STAT5A, NR...   \n",
       "\n",
       "                                            celltype_1          celltype_2  \n",
       "macrophage-healthy-t-cell-healthy   macrophage-healthy      t-cell-healthy  \n",
       "b-cells-healthy-monocyte-healthy       b-cells-healthy    monocyte-healthy  \n",
       "t-cell-healthy-neutrophil-healthy       t-cell-healthy  neutrophil-healthy  \n",
       "b-cells-healthy-macrophage-healthy     b-cells-healthy  macrophage-healthy  \n",
       "monocyte-healthy-t-cell-healthy         t-cell-healthy    monocyte-healthy  \n",
       "b-cells-healthy-neutrophil-healthy     b-cells-healthy  neutrophil-healthy  "
      ]
     },
     "execution_count": 52,
     "metadata": {},
     "output_type": "execute_result"
    }
   ],
   "source": [
    "lymphoid_vs_myeloid_cells_tf_df"
   ]
  },
  {
   "cell_type": "code",
   "execution_count": 56,
   "metadata": {},
   "outputs": [
    {
     "name": "stdout",
     "output_type": "stream",
     "text": [
      "['JUN', 'FOSL2']\n",
      "['HIC2']\n"
     ]
    }
   ],
   "source": [
    "myeloid_lymphoid_cells_tf_active_all_shared = lymphoid_vs_myeloid_cells_tf_df[\"active_markers\"].tolist()\n",
    "myeloid_lymphoid_cells_tf_suppressive_all_shared = lymphoid_vs_myeloid_cells_tf_df[\"suppressive_markers\"].tolist()\n",
    "\n",
    "all_shared_tf_active_markers = list(set.intersection(*myeloid_lymphoid_cells_tf_active_all_shared))\n",
    "all_shared_tf_suppressive_markers = list(set.intersection(*myeloid_lymphoid_cells_tf_suppressive_all_shared))\n",
    "\n",
    "print(all_shared_tf_active_markers)\n",
    "print(all_shared_tf_suppressive_markers)"
   ]
  },
  {
   "cell_type": "markdown",
   "metadata": {},
   "source": [
    "Checking for a TPM value of at least 1 in the respective cell types"
   ]
  },
  {
   "cell_type": "code",
   "execution_count": 54,
   "metadata": {},
   "outputs": [],
   "source": [
    "tpm_df = myfunc.get_tpm_filtered_genes_df(path_to_main_comparison_dir, tpm_filter=1)"
   ]
  },
  {
   "cell_type": "code",
   "execution_count": 59,
   "metadata": {},
   "outputs": [],
   "source": [
    "myeloid_cells = [\"macrophage-healthy\", \"neutrophil-healthy\", \"monocyte-healthy\"]\n",
    "lymphoid_cells = [\"b-cells-healthy\", \"t-cell-healthy\"]"
   ]
  },
  {
   "cell_type": "markdown",
   "metadata": {},
   "source": [
    "JUN and FOSL2 might either have a TPM value of at least 1 on all lymhpoid cell types (B-cels, T-cells) and/or all myeloid cell types (macropahges, neutrophils, monocytes) or not fullfilling any of these both requirements"
   ]
  },
  {
   "cell_type": "code",
   "execution_count": 58,
   "metadata": {},
   "outputs": [
    {
     "name": "stdout",
     "output_type": "stream",
     "text": [
      "JUN positive for lymphoid cells\n",
      "FOSL2 positive for lymphoid cells\n"
     ]
    }
   ],
   "source": [
    "for TF in all_shared_tf_active_markers:\n",
    "    if all(TF in tpm_df.loc[cell_type, \"TPM_filtered_genes\"] for cell_type in lymphoid_cells):\n",
    "        print(TF +\" positive for lymphoid cells\")\n",
    "    else:\n",
    "        print(\"negative for lymphoid cells\")"
   ]
  },
  {
   "cell_type": "code",
   "execution_count": 61,
   "metadata": {},
   "outputs": [
    {
     "name": "stdout",
     "output_type": "stream",
     "text": [
      "JUN positive for myeloid cells\n",
      "FOSL2 positive for myeloid cells\n"
     ]
    }
   ],
   "source": [
    "for TF in all_shared_tf_active_markers:\n",
    "    if all(TF in tpm_df.loc[cell_type, \"TPM_filtered_genes\"] for cell_type in myeloid_cells):\n",
    "        print(TF +\" positive for myeloid cells\")\n",
    "    else:\n",
    "        print(TF +\" negative for myeloid cells\")"
   ]
  },
  {
   "cell_type": "code",
   "execution_count": 64,
   "metadata": {},
   "outputs": [
    {
     "name": "stdout",
     "output_type": "stream",
     "text": [
      "HIC2 positive for lymphoid cells\n"
     ]
    }
   ],
   "source": [
    "for TF in all_shared_tf_suppressive_markers:\n",
    "    if all(TF in tpm_df.loc[cell_type, \"TPM_filtered_genes\"] for cell_type in lymphoid_cells):\n",
    "        print(TF +\" positive for lymphoid cells\")\n",
    "    else:\n",
    "        print(TF +\" negative for lymphoid cells\")"
   ]
  },
  {
   "cell_type": "code",
   "execution_count": 65,
   "metadata": {},
   "outputs": [
    {
     "name": "stdout",
     "output_type": "stream",
     "text": [
      "HIC2 negative for myeloid cells\n"
     ]
    }
   ],
   "source": [
    "for TF in all_shared_tf_suppressive_markers:\n",
    "    if all(TF in tpm_df.loc[cell_type, \"TPM_filtered_genes\"] for cell_type in myeloid_cells):\n",
    "        print(TF +\" positive for myeloid cells\")\n",
    "    else:\n",
    "        print(TF +\" negative for myeloid cells\")"
   ]
  },
  {
   "cell_type": "code",
   "execution_count": 60,
   "metadata": {},
   "outputs": [
    {
     "name": "stdout",
     "output_type": "stream",
     "text": [
      "True\n",
      "True\n"
     ]
    }
   ],
   "source": [
    "print(\"JUN\" in tpm_df.loc[\"b-cells-healthy\", \"TPM_filtered_genes\"])\n",
    "print(\"JUN\" in tpm_df.loc[\"t-cell-healthy\", \"TPM_filtered_genes\"])"
   ]
  }
 ],
 "metadata": {
  "kernelspec": {
   "display_name": "myenv",
   "language": "python",
   "name": "python3"
  },
  "language_info": {
   "codemirror_mode": {
    "name": "ipython",
    "version": 3
   },
   "file_extension": ".py",
   "mimetype": "text/x-python",
   "name": "python",
   "nbconvert_exporter": "python",
   "pygments_lexer": "ipython3",
   "version": "3.8.12"
  }
 },
 "nbformat": 4,
 "nbformat_minor": 2
}
